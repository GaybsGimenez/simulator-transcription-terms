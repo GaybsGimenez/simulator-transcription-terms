{
  "nbformat": 4,
  "nbformat_minor": 0,
  "metadata": {
    "colab": {
      "name": "simulador.ipynb",
      "provenance": [],
      "authorship_tag": "ABX9TyP+6yCwszrU4xj75AZJQlD2",
      "include_colab_link": true
    },
    "kernelspec": {
      "name": "python3",
      "display_name": "Python 3"
    },
    "language_info": {
      "name": "python"
    }
  },
  "cells": [
    {
      "cell_type": "markdown",
      "metadata": {
        "id": "view-in-github",
        "colab_type": "text"
      },
      "source": [
        "<a href=\"https://colab.research.google.com/github/GaybsGimenez/simulator-transcription-terms/blob/main/simulador.ipynb\" target=\"_parent\"><img src=\"https://colab.research.google.com/assets/colab-badge.svg\" alt=\"Open In Colab\"/></a>"
      ]
    },
    {
      "cell_type": "code",
      "execution_count": null,
      "metadata": {
        "id": "oDNVbaj7tozv"
      },
      "outputs": [],
      "source": [
        "import re\n",
        "import pandas as pd\n",
        "palavras = pd.read_csv('caminho tabela de termos .csv')\n",
        "transcricao = pd.read_csv('caminho transcrição termos.csv')\n",
        "\n",
        "resultante = []\n",
        "for texto in transcricao['Text']: #mudar nome coluna que quer tirar informação\n",
        "    memo = []\n",
        "    for coluna in palavras:\n",
        "        for a in palavras[coluna]:\n",
        "            if type(a) is str:\n",
        "                if a in str(texto): #transf int em str\n",
        "                    memo.append(coluna)\n",
        "    resultante.append(memo)\n",
        "\n",
        "\n",
        "transcricao['Localização'] = resultante\n",
        "\n",
        "\n",
        "transcricao.to_csv('caminho transcrição termos.csv', index = False, header = True) \n",
        "\n",
        "print(transcricao)"
      ]
    }
  ]
}